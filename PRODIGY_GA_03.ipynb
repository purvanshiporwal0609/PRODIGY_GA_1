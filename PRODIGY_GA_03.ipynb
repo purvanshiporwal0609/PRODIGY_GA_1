{
  "nbformat": 4,
  "nbformat_minor": 0,
  "metadata": {
    "colab": {
      "provenance": [],
      "authorship_tag": "ABX9TyOsf4f9bTQPvapspMOmi+0R",
      "include_colab_link": true
    },
    "kernelspec": {
      "name": "python3",
      "display_name": "Python 3"
    },
    "language_info": {
      "name": "python"
    }
  },
  "cells": [
    {
      "cell_type": "markdown",
      "metadata": {
        "id": "view-in-github",
        "colab_type": "text"
      },
      "source": [
        "<a href=\"https://colab.research.google.com/github/purvanshiporwal0609/PRODIGY_GA_1/blob/main/PRODIGY_GA_03.ipynb\" target=\"_parent\"><img src=\"https://colab.research.google.com/assets/colab-badge.svg\" alt=\"Open In Colab\"/></a>"
      ]
    },
    {
      "cell_type": "code",
      "execution_count": null,
      "metadata": {
        "colab": {
          "base_uri": "https://localhost:8080/"
        },
        "id": "GFmNJdv_Z-6v",
        "outputId": "930f3123-6097-4062-fa38-80b28e071116"
      },
      "outputs": [
        {
          "output_type": "stream",
          "name": "stdout",
          "text": [
            "Generated Text:\n",
            "and watched the birds fly over the trees.\n"
          ]
        }
      ],
      "source": [
        "import random\n",
        "\n",
        "# Step 1: Input text\n",
        "text = \"On a sunny morning, Sarah walked through the park and watched the birds fly over the trees.\"\n",
        "\n",
        "# Step 2: Split into words\n",
        "words = text.split()\n",
        "\n",
        "# Step 3: Build the Markov chain with bigrams\n",
        "markov_chain = {}\n",
        "for i in range(len(words) - 2):\n",
        "    key = (words[i], words[i + 1])  # a tuple of two words\n",
        "    next_word = words[i + 2]\n",
        "    if key not in markov_chain:\n",
        "        markov_chain[key] = []\n",
        "    markov_chain[key].append(next_word)\n",
        "\n",
        "# Step 4: Generate text using bigrams\n",
        "def generate_text(chain, length=15):\n",
        "    key = random.choice(list(chain.keys()))\n",
        "    result = [key[0], key[1]]\n",
        "\n",
        "    for _ in range(length - 2):\n",
        "        next_words = chain.get(key)\n",
        "        if not next_words:\n",
        "            break\n",
        "        next_word = random.choice(next_words)\n",
        "        result.append(next_word)\n",
        "        key = (key[1], next_word)  # move the window forward\n",
        "\n",
        "    return ' '.join(result)\n",
        "\n",
        "# Run the generator\n",
        "generated = generate_text(markov_chain, length=15)\n",
        "\n",
        "print(\"Generated Text:\")\n",
        "print(generated)\n"
      ]
    }
  ]
}